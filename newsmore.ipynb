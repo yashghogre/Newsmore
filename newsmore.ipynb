{
 "cells": [
  {
   "cell_type": "code",
   "execution_count": 1,
   "metadata": {},
   "outputs": [],
   "source": [
    "## Importing Libraries\n",
    "\n",
    "import numpy as np\n",
    "import pandas as pd"
   ]
  },
  {
   "cell_type": "code",
   "execution_count": 12,
   "metadata": {},
   "outputs": [],
   "source": [
    "## Importing dataset and cleaning it\n",
    "\n",
    "df = pd.read_csv(\"abcnews-date-text.csv\")\n",
    "df = df[:50000]\n",
    "df = df[\"headline_text\"]\n",
    "headlines = df.tolist()"
   ]
  },
  {
   "cell_type": "code",
   "execution_count": 15,
   "metadata": {},
   "outputs": [
    {
     "name": "stdout",
     "output_type": "stream",
     "text": [
      "['<S>', 'a', 'm', 'b', 'i', 't', 'i', 'o', 'u', 's', ' ', 'o', 'l', 's', 's', 'o', 'n', ' ', 'w', 'i', 'n', 's', ' ', 't', 'r', 'i', 'p', 'l', 'e', ' ', 'j', 'u', 'm', 'p', '<E>']\n",
      "['<S>', 'a', 'n', 't', 'i', 'c', ' ', 'd', 'e', 'l', 'i', 'g', 'h', 't', 'e', 'd', ' ', 'w', 'i', 't', 'h', ' ', 'r', 'e', 'c', 'o', 'r', 'd', ' ', 'b', 'r', 'e', 'a', 'k', 'i', 'n', 'g', ' ', 'b', 'a', 'r', 'c', 'a', '<E>']\n",
      "['<S>', 'a', 'u', 's', 's', 'i', 'e', ' ', 'q', 'u', 'a', 'l', 'i', 'f', 'i', 'e', 'r', ' ', 's', 't', 'o', 's', 'u', 'r', ' ', 'w', 'a', 's', 't', 'e', 's', ' ', 'f', 'o', 'u', 'r', ' ', 'm', 'e', 'm', 'p', 'h', 'i', 's', ' ', 'm', 'a', 't', 'c', 'h', '<E>']\n"
     ]
    }
   ],
   "source": [
    "## Creating a bigram model for the headlines\n",
    "\n",
    "for headline in headlines:\n",
    "    chs = [\"<S>\"] + list(headline) + [\"<E>\"]\n",
    "    print(chs)"
   ]
  }
 ],
 "metadata": {
  "kernelspec": {
   "display_name": "Python 3",
   "language": "python",
   "name": "python3"
  },
  "language_info": {
   "codemirror_mode": {
    "name": "ipython",
    "version": 3
   },
   "file_extension": ".py",
   "mimetype": "text/x-python",
   "name": "python",
   "nbconvert_exporter": "python",
   "pygments_lexer": "ipython3",
   "version": "3.10.1"
  }
 },
 "nbformat": 4,
 "nbformat_minor": 2
}
